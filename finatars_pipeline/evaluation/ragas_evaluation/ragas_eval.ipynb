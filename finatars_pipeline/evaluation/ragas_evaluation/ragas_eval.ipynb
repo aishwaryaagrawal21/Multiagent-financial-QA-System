{
 "cells": [
  {
   "cell_type": "markdown",
   "metadata": {},
   "source": [
    "Step 1: For each question's chunks (list of articles), generate 3 questions using Ragas.\n",
    "Step 2: Test distibrution (distributions={simple: 0.3, reasoning: 0.3, multi_context: 0.4})"
   ]
  },
  {
   "cell_type": "markdown",
   "metadata": {},
   "source": [
    "### Installation"
   ]
  },
  {
   "cell_type": "code",
   "execution_count": 9,
   "metadata": {},
   "outputs": [],
   "source": [
    "# !pip install -q ragas\n",
    "# !pip install token-count\n",
    "import pandas as pd\n",
    "from tqdm import tqdm\n",
    "import openai\n",
    "import numpy as np\n",
    "from datasets import Dataset, load_dataset\n",
    "from langchain.document_loaders import DirectoryLoader\n",
    "from ragas.testset.generator import TestsetGenerator\n",
    "from ragas.testset.evolutions import simple, reasoning, multi_context\n",
    "from ragas.metrics import (\n",
    "    answer_relevancy,\n",
    "    faithfulness,\n",
    "    context_recall,\n",
    "    context_precision,\n",
    "    context_entity_recall\n",
    ")\n",
    "from ragas import evaluate\n",
    "from langchain_openai import ChatOpenAI, OpenAIEmbeddings\n",
    "import os\n",
    "os.environ['OPENAI_API_KEY'] = 'OPENAPI_KEY'"
   ]
  },
  {
   "cell_type": "markdown",
   "metadata": {},
   "source": [
    "### Documents"
   ]
  },
  {
   "cell_type": "code",
   "execution_count": 2,
   "metadata": {},
   "outputs": [],
   "source": [
    "### Using QA Dataset\n",
    "qaDataFilename = 'qa_data_5'\n",
    "qaData = pd.read_csv(f'data_backup/{qaDataFilename}.csv') # QA dataset CSV with article chunks\n",
    "qaDataforRAGAS = qaData.iloc[10:]['chunk_text'].values # Take the last 10 questions ONLY\n",
    "\n",
    "for i, articles in enumerate(qaDataforRAGAS): # iterate through questions\n",
    "    articles = eval(articles)\n",
    "    with open(f'datasource/{qaDataFilename}_ques_{11+i}.txt', 'w') as f:\n",
    "        f.write('\\n'.join(articles))\n",
    "    "
   ]
  },
  {
   "cell_type": "code",
   "execution_count": 3,
   "metadata": {},
   "outputs": [],
   "source": [
    "# Create Langchain Document format for each test set\n",
    "all_documents = []\n",
    "for i in range(11, 21): # for questions 11 - 20\n",
    "    loader = DirectoryLoader(f'datasource/', glob=f'{qaDataFilename}_ques_{i}.txt') # load all articles relating to that question\n",
    "    documents = loader.load()\n",
    "    for doc in documents:\n",
    "        doc.metadata['filename'] = doc.metadata['source']\n",
    "    all_documents.append(documents)"
   ]
  },
  {
   "cell_type": "markdown",
   "metadata": {},
   "source": [
    "### Test-set Generation"
   ]
  },
  {
   "cell_type": "code",
   "execution_count": 4,
   "metadata": {},
   "outputs": [],
   "source": [
    "# generator with openai models\n",
    "generator_llm = ChatOpenAI(model=\"gpt-4-turbo-preview\")\n",
    "critic_llm = ChatOpenAI(model=\"gpt-4-turbo-preview\")\n",
    "embeddings = OpenAIEmbeddings()\n",
    "\n",
    "generator = TestsetGenerator.from_langchain(\n",
    "    generator_llm,\n",
    "    critic_llm,\n",
    "    embeddings\n",
    ")"
   ]
  },
  {
   "cell_type": "code",
   "execution_count": 6,
   "metadata": {},
   "outputs": [
    {
     "name": "stderr",
     "output_type": "stream",
     "text": [
      "Generating: 100%|██████████| 3/3 [03:37<00:00, 72.52s/it]       \n",
      "Generating: 100%|██████████| 3/3 [00:53<00:00, 17.87s/it]      \n",
      "Generating: 100%|██████████| 3/3 [02:48<00:00, 56.05s/it]       \n",
      "Generating: 100%|██████████| 3/3 [02:20<00:00, 46.76s/it]      \n"
     ]
    }
   ],
   "source": [
    "# Test set generation\n",
    "# Iterate for all 10 questions\n",
    "for i, documents in enumerate(all_documents):\n",
    "    # generate testset\n",
    "    testset = generator.generate_with_langchain_docs(documents, test_size=3, distributions={simple: 0.3, reasoning: 0.3, multi_context: 0.4})\n",
    "    testdf = testset.to_pandas()\n",
    "    testdf.to_csv(f'testsets/testset_{qaDataFilename}_question_{11+i}.csv', index=False)"
   ]
  },
  {
   "cell_type": "markdown",
   "metadata": {},
   "source": [
    "### Making the final Evaluation Dataset Structure\n",
    "\n",
    "1. Question (string)\n",
    "2. Contexts (list of strings)\n",
    "3. Ground Truth (string)\n",
    "4. Ground Truth Chunk IDs (list)\n",
    "5. Retrieved Chunk IDs (list) \n",
    "6. Generated Answer (string)"
   ]
  },
  {
   "cell_type": "code",
   "execution_count": 11,
   "metadata": {},
   "outputs": [],
   "source": [
    "ragas_evaluation = pd.DataFrame(\n",
    "    columns = ['question', 'contexts', 'ground_truth', 'ground_truth_chunk_ids', 'answer', 'answer_chunk_ids']\n",
    ")\n",
    "\n",
    "for doc_no in range(0, 6): # Each of the 6 qa_data_documents\n",
    "    qaDataFilename = f'qa_data_{doc_no}'\n",
    "    qaDataFilePath = 'data_backup/' + qaDataFilename + '.csv'\n",
    "    qaData = pd.read_csv(qaDataFilePath)\n",
    "    for row_no in range(11, 21): # Each of the 10 last rows in each document\n",
    "        testsetFilePath = f'testsets/testset_{qaDataFilename}_question_{row_no}.csv'\n",
    "        testset = pd.read_csv(testsetFilePath)\n",
    "        for index, row in testset.iterrows(): # Each of the Q/A pairs in each testset (max 3)\n",
    "            data = {\n",
    "                'question': row['question'],\n",
    "                'contexts': row['contexts'],\n",
    "                'ground_truth': row['ground_truth'],\n",
    "                'ground_truth_chunk_ids': eval(qaData.loc[(row_no-1),'chunk_id']),\n",
    "                'answer': None,\n",
    "                'answer_chunk_ids': None\n",
    "            }\n",
    "            ragas_evaluation.loc[len(ragas_evaluation.index)] = data\n",
    "\n",
    "ragas_evaluation.dropna(subset=['ground_truth'], inplace=True)\n",
    "ragas_evaluation.reset_index(inplace = True)\n",
    "ragas_evaluation.drop(columns=['index'], inplace=True)"
   ]
  },
  {
   "cell_type": "code",
   "execution_count": 12,
   "metadata": {},
   "outputs": [
    {
     "data": {
      "text/html": [
       "<div>\n",
       "<style scoped>\n",
       "    .dataframe tbody tr th:only-of-type {\n",
       "        vertical-align: middle;\n",
       "    }\n",
       "\n",
       "    .dataframe tbody tr th {\n",
       "        vertical-align: top;\n",
       "    }\n",
       "\n",
       "    .dataframe thead th {\n",
       "        text-align: right;\n",
       "    }\n",
       "</style>\n",
       "<table border=\"1\" class=\"dataframe\">\n",
       "  <thead>\n",
       "    <tr style=\"text-align: right;\">\n",
       "      <th></th>\n",
       "      <th>question</th>\n",
       "      <th>contexts</th>\n",
       "      <th>ground_truth</th>\n",
       "      <th>ground_truth_chunk_ids</th>\n",
       "      <th>answer</th>\n",
       "      <th>answer_chunk_ids</th>\n",
       "    </tr>\n",
       "  </thead>\n",
       "  <tbody>\n",
       "    <tr>\n",
       "      <th>0</th>\n",
       "      <td>Which semiconductor stock, NVIDIA or Taiwan Se...</td>\n",
       "      <td>[' product launch cadence to meet a growing an...</td>\n",
       "      <td>NVIDIA has performed better this year, gaining...</td>\n",
       "      <td>[25c2084b-d2c7-2c1d-2bdf-5ac4b97e8d7e, 3e619c5...</td>\n",
       "      <td>None</td>\n",
       "      <td>None</td>\n",
       "    </tr>\n",
       "    <tr>\n",
       "      <th>1</th>\n",
       "      <td>What was the percentage increase in TSMC's Oct...</td>\n",
       "      <td>['Taiwan Semiconductor Manufacturing (TSM), be...</td>\n",
       "      <td>34.8%</td>\n",
       "      <td>[25c2084b-d2c7-2c1d-2bdf-5ac4b97e8d7e, 3e619c5...</td>\n",
       "      <td>None</td>\n",
       "      <td>None</td>\n",
       "    </tr>\n",
       "    <tr>\n",
       "      <th>2</th>\n",
       "      <td>What are the risks of a complex supply chain w...</td>\n",
       "      <td>['Item 7. Management\\'s Discussion and Analysi...</td>\n",
       "      <td>The risks of a complex supply chain with facto...</td>\n",
       "      <td>[25c2084b-d2c7-2c1d-2bdf-5ac4b97e8d7e, 3e619c5...</td>\n",
       "      <td>None</td>\n",
       "      <td>None</td>\n",
       "    </tr>\n",
       "    <tr>\n",
       "      <th>3</th>\n",
       "      <td>What factors have contributed to Nvidia's posi...</td>\n",
       "      <td>[' programming code.\\n\\nFor those looking for ...</td>\n",
       "      <td>Nvidia's position as a leader in the AI chip m...</td>\n",
       "      <td>[911edbf3-396c-c1f4-e97f-18c212dee4c4, 960ff40...</td>\n",
       "      <td>None</td>\n",
       "      <td>None</td>\n",
       "    </tr>\n",
       "    <tr>\n",
       "      <th>4</th>\n",
       "      <td>What strategies does NVIDIA employ to support ...</td>\n",
       "      <td>['G informed us the licensing requirements wer...</td>\n",
       "      <td>NVIDIA employs several strategies to support t...</td>\n",
       "      <td>[3e619c5b-8801-886f-1153-21429e404e1b, 77899e5...</td>\n",
       "      <td>None</td>\n",
       "      <td>None</td>\n",
       "    </tr>\n",
       "  </tbody>\n",
       "</table>\n",
       "</div>"
      ],
      "text/plain": [
       "                                            question  \\\n",
       "0  Which semiconductor stock, NVIDIA or Taiwan Se...   \n",
       "1  What was the percentage increase in TSMC's Oct...   \n",
       "2  What are the risks of a complex supply chain w...   \n",
       "3  What factors have contributed to Nvidia's posi...   \n",
       "4  What strategies does NVIDIA employ to support ...   \n",
       "\n",
       "                                            contexts  \\\n",
       "0  [' product launch cadence to meet a growing an...   \n",
       "1  ['Taiwan Semiconductor Manufacturing (TSM), be...   \n",
       "2  ['Item 7. Management\\'s Discussion and Analysi...   \n",
       "3  [' programming code.\\n\\nFor those looking for ...   \n",
       "4  ['G informed us the licensing requirements wer...   \n",
       "\n",
       "                                        ground_truth  \\\n",
       "0  NVIDIA has performed better this year, gaining...   \n",
       "1                                              34.8%   \n",
       "2  The risks of a complex supply chain with facto...   \n",
       "3  Nvidia's position as a leader in the AI chip m...   \n",
       "4  NVIDIA employs several strategies to support t...   \n",
       "\n",
       "                              ground_truth_chunk_ids answer answer_chunk_ids  \n",
       "0  [25c2084b-d2c7-2c1d-2bdf-5ac4b97e8d7e, 3e619c5...   None             None  \n",
       "1  [25c2084b-d2c7-2c1d-2bdf-5ac4b97e8d7e, 3e619c5...   None             None  \n",
       "2  [25c2084b-d2c7-2c1d-2bdf-5ac4b97e8d7e, 3e619c5...   None             None  \n",
       "3  [911edbf3-396c-c1f4-e97f-18c212dee4c4, 960ff40...   None             None  \n",
       "4  [3e619c5b-8801-886f-1153-21429e404e1b, 77899e5...   None             None  "
      ]
     },
     "execution_count": 12,
     "metadata": {},
     "output_type": "execute_result"
    }
   ],
   "source": [
    "ragas_evaluation.head()"
   ]
  },
  {
   "cell_type": "code",
   "execution_count": 42,
   "metadata": {},
   "outputs": [],
   "source": [
    "ragas_evaluation.to_csv('testsets/ragas_evaluation.csv', index=False)"
   ]
  },
  {
   "cell_type": "markdown",
   "metadata": {},
   "source": [
    "#### Combine Ragas and Manual Evaluation Files"
   ]
  },
  {
   "cell_type": "code",
   "execution_count": 21,
   "metadata": {},
   "outputs": [
    {
     "name": "stdout",
     "output_type": "stream",
     "text": [
      "<class 'pandas.core.frame.DataFrame'>\n",
      "RangeIndex: 180 entries, 0 to 179\n",
      "Data columns (total 7 columns):\n",
      " #   Column                  Non-Null Count  Dtype \n",
      "---  ------                  --------------  ----- \n",
      " 0   question                180 non-null    object\n",
      " 1   contexts                180 non-null    object\n",
      " 2   ground_truth            180 non-null    object\n",
      " 3   ground_truth_chunk_ids  180 non-null    object\n",
      " 4   answer                  0 non-null      object\n",
      " 5   answer_chunk_ids        0 non-null      object\n",
      " 6   type                    180 non-null    object\n",
      "dtypes: object(7)\n",
      "memory usage: 10.0+ KB\n"
     ]
    }
   ],
   "source": [
    "evaluation_dataset = ragas_evaluation.copy()\n",
    "evaluation_dataset['type'] = 'ragas'\n",
    "manual_datasets = ['aishwarya', 'krisha', 'leo', 'tanya', 'vinay']\n",
    "for name in manual_datasets:\n",
    "    fileName = f'final_evaluation_datasets/{name}_manual_questions.csv'\n",
    "    dataset = pd.read_csv(fileName)\n",
    "    dataset['type'] = 'manual'\n",
    "    evaluation_dataset = pd.concat([evaluation_dataset, dataset])\n",
    "    evaluation_dataset.reset_index(inplace = True)\n",
    "    evaluation_dataset.drop(columns=['index'], inplace=True)\n",
    "evaluation_dataset.info()"
   ]
  },
  {
   "cell_type": "code",
   "execution_count": 22,
   "metadata": {},
   "outputs": [],
   "source": [
    "evaluation_dataset.to_csv('final_evaluation_datasets/evaluation_dataset.csv', index=False)"
   ]
  },
  {
   "cell_type": "markdown",
   "metadata": {},
   "source": [
    "### Running Evaluations"
   ]
  },
  {
   "cell_type": "markdown",
   "metadata": {},
   "source": [
    "#### Baseline 1: GPT3.5 with Own Knowledge"
   ]
  },
  {
   "cell_type": "code",
   "execution_count": 31,
   "metadata": {},
   "outputs": [],
   "source": [
    "def promptGPT(prompt):\n",
    "    response = openai.chat.completions.create(\n",
    "        model = 'gpt-3.5-turbo-16k',\n",
    "        messages=[\n",
    "            {\n",
    "                'role': 'user',\n",
    "                'content': prompt,\n",
    "            },\n",
    "        ],\n",
    "    )\n",
    "    return response.choices[0].message.content"
   ]
  },
  {
   "cell_type": "code",
   "execution_count": 7,
   "metadata": {},
   "outputs": [],
   "source": [
    "def gptBaselineAnswerGeneration(evaluation_dataset):\n",
    "    eval_dataset = evaluation_dataset.copy()\n",
    "    dataset_length = len(eval_dataset.index)\n",
    "\n",
    "    ### Answer Generation\n",
    "    print('Running Answer Generation module...')\n",
    "    for i in tqdm(range(dataset_length), desc='Generating Answers'):\n",
    "        question = eval_dataset.loc[i, 'question']\n",
    "        prompt = f'Hey! Using your own knowledge, please answer this question:\\n{question}\\nPlease provide a concise answer in paragraph format (no bullet points) to the question and return ONLY the answer, nothing else. If you do not know the answer to a question, please return an EMPTY string. Please do not provide additional start and end comments, reply with only the answer.'\n",
    "        answer = promptGPT(prompt)\n",
    "        eval_dataset.loc[i, 'answer'] = answer\n",
    "    print('Answer Generation Done!')\n",
    "    return eval_dataset\n",
    "\n",
    "def BaselineEvaluation(evaluation_dataset):\n",
    "    ### Evaluation\n",
    "    print('Running Evaluation...')\n",
    "    # Convert to Ragas format\n",
    "    evaluation_dataset = evaluation_dataset[['question', 'answer', 'contexts', 'ground_truth']] \n",
    "    evaluation_dataset['contexts'] = evaluation_dataset['contexts'].apply(lambda x: np.array(eval(x)))\n",
    "    evaluation_dataset = Dataset.from_pandas(evaluation_dataset)\n",
    "    result = evaluate(\n",
    "        evaluation_dataset,\n",
    "        metrics=[\n",
    "            context_precision,\n",
    "            faithfulness,\n",
    "            answer_relevancy,\n",
    "            context_recall,\n",
    "            context_entity_recall,\n",
    "        ],\n",
    "    )\n",
    "    print('Evaluation done!')\n",
    "    \n",
    "    print(f'Here are the results:\\n{result}')\n",
    "    return result.to_pandas()"
   ]
  },
  {
   "cell_type": "code",
   "execution_count": 67,
   "metadata": {},
   "outputs": [],
   "source": [
    "# Answer Generation\n",
    "gptBaselineDataset = gptBaselineAnswerGeneration(evaluation_dataset)\n",
    "# Evaluation (split into 4 chunks due to rate limit)\n",
    "tmp1 = gptBaselineDataset.iloc[0:50, :]\n",
    "tmp2 = gptBaselineDataset.iloc[50:100, :]\n",
    "tmp3 = gptBaselineDataset.iloc[100:150, :]\n",
    "tmp4 = gptBaselineDataset.iloc[150:, :]\n",
    "gptBaselineResult1 = BaselineEvaluation(tmp1) \n",
    "gptBaselineResult2 = BaselineEvaluation(tmp2) \n",
    "gptBaselineResult3 = BaselineEvaluation(tmp3) \n",
    "gptBaselineResult4 = BaselineEvaluation(tmp4) \n",
    "gptBaselineResult = pd.concat([gptBaselineResult1, gptBaselineResult2, gptBaselineResult3, gptBaselineResult4])\n",
    "gptBaselineResult.reset_index(inplace=True)\n",
    "gptBaselineResult.drop(columns=['index'], inplace=True)\n",
    "gptBaselineResult.to_csv('final_evaluation_datasets/gpt_baseline_results.csv', index = False)"
   ]
  },
  {
   "cell_type": "code",
   "execution_count": 91,
   "metadata": {},
   "outputs": [
    {
     "data": {
      "text/plain": [
       "{'context_precision': 0.8838734567165447,\n",
       " 'faithfulness': 0.6924694398832331,\n",
       " 'answer_relevancy': 0.8958493206186454,\n",
       " 'context_recall': 0.9627777777777778,\n",
       " 'context_entity_recall': 0.27091403535645997}"
      ]
     },
     "execution_count": 91,
     "metadata": {},
     "output_type": "execute_result"
    }
   ],
   "source": [
    "# Results for whole dataset\n",
    "description = gptBaselineResult.describe()\n",
    "total_results = {\n",
    "    'context_precision': description.loc['mean', 'context_precision'],\n",
    "    'faithfulness': description.loc['mean', 'faithfulness'],\n",
    "    'answer_relevancy': description.loc['mean', 'answer_relevancy'],\n",
    "    'context_recall': description.loc['mean', 'context_recall'],\n",
    "    'context_entity_recall': description.loc['mean', 'context_entity_recall'],\n",
    "}\n",
    "total_results"
   ]
  },
  {
   "cell_type": "code",
   "execution_count": 11,
   "metadata": {},
   "outputs": [
    {
     "data": {
      "text/html": [
       "<div>\n",
       "<style scoped>\n",
       "    .dataframe tbody tr th:only-of-type {\n",
       "        vertical-align: middle;\n",
       "    }\n",
       "\n",
       "    .dataframe tbody tr th {\n",
       "        vertical-align: top;\n",
       "    }\n",
       "\n",
       "    .dataframe thead th {\n",
       "        text-align: right;\n",
       "    }\n",
       "</style>\n",
       "<table border=\"1\" class=\"dataframe\">\n",
       "  <thead>\n",
       "    <tr style=\"text-align: right;\">\n",
       "      <th></th>\n",
       "      <th>question</th>\n",
       "      <th>contexts</th>\n",
       "      <th>ground_truth</th>\n",
       "      <th>ground_truth_chunk_ids</th>\n",
       "      <th>answer</th>\n",
       "      <th>answer_chunk_ids</th>\n",
       "      <th>type</th>\n",
       "    </tr>\n",
       "  </thead>\n",
       "  <tbody>\n",
       "    <tr>\n",
       "      <th>0</th>\n",
       "      <td>Which semiconductor stock, NVIDIA or Taiwan Semiconductor, has performed better this year?</td>\n",
       "      <td>[' product launch cadence to meet a growing and diverse set of AI opportunities. The increased frequency of these transitions may magnify the challenges associated with managing our supply and dem...</td>\n",
       "      <td>NVIDIA has performed better this year, gaining 180% year-to-date compared to Taiwan Semiconductor's 38%.</td>\n",
       "      <td>['25c2084b-d2c7-2c1d-2bdf-5ac4b97e8d7e', '3e619c5b-8801-886f-1153-21429e404e1b', 'b78da971-cede-623b-d604-234e42dda7f8', 'bf715864-7c6d-03f2-2587-13ce20a99fcc', 'd87a0bff-9952-0e44-46ff-553112acde...</td>\n",
       "      <td>NaN</td>\n",
       "      <td>NaN</td>\n",
       "      <td>ragas</td>\n",
       "    </tr>\n",
       "    <tr>\n",
       "      <th>1</th>\n",
       "      <td>What was the percentage increase in TSMC's October sales compared to September, driven by demand for AI chips and Apple's iPhone 15?</td>\n",
       "      <td>['Taiwan Semiconductor Manufacturing (TSM), better known as TSMC, reported better-than-expected sales for October, thanks to demand for chips for artificial intelligence and Apple\\'s (AAPL) iPhone...</td>\n",
       "      <td>34.8%</td>\n",
       "      <td>['25c2084b-d2c7-2c1d-2bdf-5ac4b97e8d7e', '3e619c5b-8801-886f-1153-21429e404e1b', 'b78da971-cede-623b-d604-234e42dda7f8', 'bf715864-7c6d-03f2-2587-13ce20a99fcc', 'd87a0bff-9952-0e44-46ff-553112acde...</td>\n",
       "      <td>NaN</td>\n",
       "      <td>NaN</td>\n",
       "      <td>ragas</td>\n",
       "    </tr>\n",
       "    <tr>\n",
       "      <th>2</th>\n",
       "      <td>What are the risks of a complex supply chain with factors like demand visibility, purchase volumes, new vendors, and changing demand expectations?</td>\n",
       "      <td>['Item 7. Management\\'s Discussion and Analysis of Financial Condition and Results of Operations The following discussion and analysis of our financial condition and results of operations should b...</td>\n",
       "      <td>The risks of a complex supply chain with factors like demand visibility, purchase volumes, new vendors, and changing demand expectations include increased complexity and execution risk, potential ...</td>\n",
       "      <td>['25c2084b-d2c7-2c1d-2bdf-5ac4b97e8d7e', '3e619c5b-8801-886f-1153-21429e404e1b', 'b78da971-cede-623b-d604-234e42dda7f8', 'bf715864-7c6d-03f2-2587-13ce20a99fcc', 'd87a0bff-9952-0e44-46ff-553112acde...</td>\n",
       "      <td>NaN</td>\n",
       "      <td>NaN</td>\n",
       "      <td>ragas</td>\n",
       "    </tr>\n",
       "    <tr>\n",
       "      <th>3</th>\n",
       "      <td>What factors have contributed to Nvidia's position as a leader in the AI chip market?</td>\n",
       "      <td>[' programming code.\\n\\nFor those looking for the top large-cap stocks to buy now, here\\'s a dive into NVDA.\\n\\nNvidia Stock Technical Analysis\\n\\nThe AI chip leader broke out past a 476.09 buy po...</td>\n",
       "      <td>Nvidia's position as a leader in the AI chip market is attributed to its pioneering of graphics processing units (GPUs) for more realistic video games, expansion into AI chips used in supercompute...</td>\n",
       "      <td>['911edbf3-396c-c1f4-e97f-18c212dee4c4', '960ff408-d29b-e155-298c-15dbc123661a', 'a9a2c391-b9c0-2c62-b5f0-42411e07809c', 'abcc1e96-6637-b573-e425-a668f873dfa6', 'd8934572-b4ab-7b73-e2b0-fd72bf732b...</td>\n",
       "      <td>NaN</td>\n",
       "      <td>NaN</td>\n",
       "      <td>ragas</td>\n",
       "    </tr>\n",
       "    <tr>\n",
       "      <th>4</th>\n",
       "      <td>What strategies does NVIDIA employ to support the compensation, benefits, and well-being of its employees?</td>\n",
       "      <td>['G informed us the licensing requirements were effective immediately for shipments of our A100, A800, H100, H800, and L40S products. Our sales to China decreased as a percentage of total Data Cen...</td>\n",
       "      <td>NVIDIA employs several strategies to support the compensation, benefits, and well-being of its employees, including offering equity tied to the company's stock price, comprehensive benefits for ph...</td>\n",
       "      <td>['3e619c5b-8801-886f-1153-21429e404e1b', '77899e50-1aae-2b16-f8d4-65c30e9717d0', '911edbf3-396c-c1f4-e97f-18c212dee4c4', 'b78da971-cede-623b-d604-234e42dda7f8', 'bf715864-7c6d-03f2-2587-13ce20a99f...</td>\n",
       "      <td>NaN</td>\n",
       "      <td>NaN</td>\n",
       "      <td>ragas</td>\n",
       "    </tr>\n",
       "    <tr>\n",
       "      <th>...</th>\n",
       "      <td>...</td>\n",
       "      <td>...</td>\n",
       "      <td>...</td>\n",
       "      <td>...</td>\n",
       "      <td>...</td>\n",
       "      <td>...</td>\n",
       "      <td>...</td>\n",
       "    </tr>\n",
       "    <tr>\n",
       "      <th>175</th>\n",
       "      <td>Who is the CEO of the company which recently launched its Verified services, and is also responsible for the expected global AI spending to exceed $300 billion by 2026?</td>\n",
       "      <td>['Update on June 27, 2023 at 7:30 AM PT:\\n\\nWe’re excited to begin rolling out Meta Verified to most markets globally over the coming months.\\n\\nWe’ve heard positive feedback from creators in our ...</td>\n",
       "      <td>Mark Zuckerberg is the CEO of Meta, who recently launched their verified services, is responsible for the expected global AI spending to exceed $300 billion by 2026.</td>\n",
       "      <td>['19857181-dd62-9d08-2747-3331540f0b81', 'adfada1a-9035-2536-c50b-c83d3f18a36a', 'b212ddfc-cb92-43ac-de99-bf0def886139', 'd486c571-c3f4-46d5-86b4-876a28a89790', 'fcfd1b5a-f708-0a3d-3ac6-172751a4c6...</td>\n",
       "      <td>NaN</td>\n",
       "      <td>NaN</td>\n",
       "      <td>manual</td>\n",
       "    </tr>\n",
       "    <tr>\n",
       "      <th>176</th>\n",
       "      <td>Considering the latest strategic and financial developments, how are Meta and NVIDIA adjusting their operations in response to market demands and regulatory challenges?</td>\n",
       "      <td>['Our policy is to include interest and penalties related to unrecognized tax benefits as a component of income tax expense. Revenue Recognition Revenue Allowances For products sold with a right o...</td>\n",
       "      <td>Meta is reducing its workforce by about 10,000 employees and closing 5,000 unfilled job postings to streamline operations, while NVIDIA has launched the RTX 4090D, a China-specific gaming chip com...</td>\n",
       "      <td>['25c2084b-d2c7-2c1d-2bdf-5ac4b97e8d7e', '3c673603-bc65-e197-6c90-bcb66c977b8c', '77899e50-1aae-2b16-f8d4-65c30e9717d0', 'b78da971-cede-623b-d604-234e42dda7f8', 'd8934572-b4ab-7b73-e2b0-fd72bf732b...</td>\n",
       "      <td>NaN</td>\n",
       "      <td>NaN</td>\n",
       "      <td>manual</td>\n",
       "    </tr>\n",
       "    <tr>\n",
       "      <th>177</th>\n",
       "      <td>As compared to Alphabet, how much more did the stock price of the company that laid off 10,000 people increase?</td>\n",
       "      <td>[\"Check out the companies making headlines before the bell.\\n\\nAlphabet — The Google parent popped more than 6% after topping Wall Street's second-quarter earnings expectations, fueled by growth i...</td>\n",
       "      <td>Meta, who laid off more that 10,000 people increased its stock price by more than 1% as compared to Alphabet</td>\n",
       "      <td>['36a0b9b8-5aeb-f0d1-673e-044da5890e01', '3e619c5b-8801-886f-1153-21429e404e1b', '7b28a0c9-9260-0b69-8d07-4b383b4ec9ee', 'b78da971-cede-623b-d604-234e42dda7f8', 'bf715864-7c6d-03f2-2587-13ce20a99f...</td>\n",
       "      <td>NaN</td>\n",
       "      <td>NaN</td>\n",
       "      <td>manual</td>\n",
       "    </tr>\n",
       "    <tr>\n",
       "      <th>178</th>\n",
       "      <td>Amongst Apple, Google, Meta, Microsoft, NVIDIA and TSM; which company or companies are flagged for high-risk to invest in due to geopolitical risks?</td>\n",
       "      <td>['Our policy is to include interest and penalties related to unrecognized tax benefits as a component of income tax expense. Revenue Recognition Revenue Allowances For products sold with a right o...</td>\n",
       "      <td>Among the listed companies, Taiwan Semiconductor Manufacturing Co. (TSM) is flagged for high-risk investment due to geopolitical risks, particularly because of the tensions between Taiwan and China.</td>\n",
       "      <td>['0f064687-3f51-7c2c-9ad1-d77b09f66b36', '77899e50-1aae-2b16-f8d4-65c30e9717d0', 'b78da971-cede-623b-d604-234e42dda7f8', 'd8934572-b4ab-7b73-e2b0-fd72bf732bad', 'e5b52cd6-97dd-1b43-0a6c-d523f5f654...</td>\n",
       "      <td>NaN</td>\n",
       "      <td>NaN</td>\n",
       "      <td>manual</td>\n",
       "    </tr>\n",
       "    <tr>\n",
       "      <th>179</th>\n",
       "      <td>Before coming to NVIDIA, which competitor of Microsoft did the Executive Vice President and Chief Financial Officer of NVIDIA work at?</td>\n",
       "      <td>['PART I Item 1 &amp;#160; OPERATING SEGMENTS We operate our business and report our financial performance using three segments: Productivity and Business Processes, Intelligent Cloud, and More Person...</td>\n",
       "      <td>Prior to NVIDIA, Ms. Kress most recently served as Senior Vice President and Chief Financial Officer of the Business Technology and Operations Finance organization at Cisco Systems, Inc.</td>\n",
       "      <td>['77899e50-1aae-2b16-f8d4-65c30e9717d0', '911edbf3-396c-c1f4-e97f-18c212dee4c4', 'c64e4be0-0a6b-a621-a919-864efa4ae279', 'd8934572-b4ab-7b73-e2b0-fd72bf732bad']</td>\n",
       "      <td>NaN</td>\n",
       "      <td>NaN</td>\n",
       "      <td>manual</td>\n",
       "    </tr>\n",
       "  </tbody>\n",
       "</table>\n",
       "<p>180 rows × 7 columns</p>\n",
       "</div>"
      ],
      "text/plain": [
       "                                                                                                                                                                     question  \\\n",
       "0                                                                                  Which semiconductor stock, NVIDIA or Taiwan Semiconductor, has performed better this year?   \n",
       "1                                        What was the percentage increase in TSMC's October sales compared to September, driven by demand for AI chips and Apple's iPhone 15?   \n",
       "2                          What are the risks of a complex supply chain with factors like demand visibility, purchase volumes, new vendors, and changing demand expectations?   \n",
       "3                                                                                       What factors have contributed to Nvidia's position as a leader in the AI chip market?   \n",
       "4                                                                  What strategies does NVIDIA employ to support the compensation, benefits, and well-being of its employees?   \n",
       "..                                                                                                                                                                        ...   \n",
       "175  Who is the CEO of the company which recently launched its Verified services, and is also responsible for the expected global AI spending to exceed $300 billion by 2026?   \n",
       "176  Considering the latest strategic and financial developments, how are Meta and NVIDIA adjusting their operations in response to market demands and regulatory challenges?   \n",
       "177                                                           As compared to Alphabet, how much more did the stock price of the company that laid off 10,000 people increase?   \n",
       "178                      Amongst Apple, Google, Meta, Microsoft, NVIDIA and TSM; which company or companies are flagged for high-risk to invest in due to geopolitical risks?   \n",
       "179                                    Before coming to NVIDIA, which competitor of Microsoft did the Executive Vice President and Chief Financial Officer of NVIDIA work at?   \n",
       "\n",
       "                                                                                                                                                                                                    contexts  \\\n",
       "0    [' product launch cadence to meet a growing and diverse set of AI opportunities. The increased frequency of these transitions may magnify the challenges associated with managing our supply and dem...   \n",
       "1    ['Taiwan Semiconductor Manufacturing (TSM), better known as TSMC, reported better-than-expected sales for October, thanks to demand for chips for artificial intelligence and Apple\\'s (AAPL) iPhone...   \n",
       "2    ['Item 7. Management\\'s Discussion and Analysis of Financial Condition and Results of Operations The following discussion and analysis of our financial condition and results of operations should b...   \n",
       "3    [' programming code.\\n\\nFor those looking for the top large-cap stocks to buy now, here\\'s a dive into NVDA.\\n\\nNvidia Stock Technical Analysis\\n\\nThe AI chip leader broke out past a 476.09 buy po...   \n",
       "4    ['G informed us the licensing requirements were effective immediately for shipments of our A100, A800, H100, H800, and L40S products. Our sales to China decreased as a percentage of total Data Cen...   \n",
       "..                                                                                                                                                                                                       ...   \n",
       "175  ['Update on June 27, 2023 at 7:30 AM PT:\\n\\nWe’re excited to begin rolling out Meta Verified to most markets globally over the coming months.\\n\\nWe’ve heard positive feedback from creators in our ...   \n",
       "176  ['Our policy is to include interest and penalties related to unrecognized tax benefits as a component of income tax expense. Revenue Recognition Revenue Allowances For products sold with a right o...   \n",
       "177  [\"Check out the companies making headlines before the bell.\\n\\nAlphabet — The Google parent popped more than 6% after topping Wall Street's second-quarter earnings expectations, fueled by growth i...   \n",
       "178  ['Our policy is to include interest and penalties related to unrecognized tax benefits as a component of income tax expense. Revenue Recognition Revenue Allowances For products sold with a right o...   \n",
       "179  ['PART I Item 1 &#160; OPERATING SEGMENTS We operate our business and report our financial performance using three segments: Productivity and Business Processes, Intelligent Cloud, and More Person...   \n",
       "\n",
       "                                                                                                                                                                                                ground_truth  \\\n",
       "0                                                                                                   NVIDIA has performed better this year, gaining 180% year-to-date compared to Taiwan Semiconductor's 38%.   \n",
       "1                                                                                                                                                                                                      34.8%   \n",
       "2    The risks of a complex supply chain with factors like demand visibility, purchase volumes, new vendors, and changing demand expectations include increased complexity and execution risk, potential ...   \n",
       "3    Nvidia's position as a leader in the AI chip market is attributed to its pioneering of graphics processing units (GPUs) for more realistic video games, expansion into AI chips used in supercompute...   \n",
       "4    NVIDIA employs several strategies to support the compensation, benefits, and well-being of its employees, including offering equity tied to the company's stock price, comprehensive benefits for ph...   \n",
       "..                                                                                                                                                                                                       ...   \n",
       "175                                    Mark Zuckerberg is the CEO of Meta, who recently launched their verified services, is responsible for the expected global AI spending to exceed $300 billion by 2026.   \n",
       "176  Meta is reducing its workforce by about 10,000 employees and closing 5,000 unfilled job postings to streamline operations, while NVIDIA has launched the RTX 4090D, a China-specific gaming chip com...   \n",
       "177                                                                                             Meta, who laid off more that 10,000 people increased its stock price by more than 1% as compared to Alphabet   \n",
       "178   Among the listed companies, Taiwan Semiconductor Manufacturing Co. (TSM) is flagged for high-risk investment due to geopolitical risks, particularly because of the tensions between Taiwan and China.   \n",
       "179               Prior to NVIDIA, Ms. Kress most recently served as Senior Vice President and Chief Financial Officer of the Business Technology and Operations Finance organization at Cisco Systems, Inc.   \n",
       "\n",
       "                                                                                                                                                                                      ground_truth_chunk_ids  \\\n",
       "0    ['25c2084b-d2c7-2c1d-2bdf-5ac4b97e8d7e', '3e619c5b-8801-886f-1153-21429e404e1b', 'b78da971-cede-623b-d604-234e42dda7f8', 'bf715864-7c6d-03f2-2587-13ce20a99fcc', 'd87a0bff-9952-0e44-46ff-553112acde...   \n",
       "1    ['25c2084b-d2c7-2c1d-2bdf-5ac4b97e8d7e', '3e619c5b-8801-886f-1153-21429e404e1b', 'b78da971-cede-623b-d604-234e42dda7f8', 'bf715864-7c6d-03f2-2587-13ce20a99fcc', 'd87a0bff-9952-0e44-46ff-553112acde...   \n",
       "2    ['25c2084b-d2c7-2c1d-2bdf-5ac4b97e8d7e', '3e619c5b-8801-886f-1153-21429e404e1b', 'b78da971-cede-623b-d604-234e42dda7f8', 'bf715864-7c6d-03f2-2587-13ce20a99fcc', 'd87a0bff-9952-0e44-46ff-553112acde...   \n",
       "3    ['911edbf3-396c-c1f4-e97f-18c212dee4c4', '960ff408-d29b-e155-298c-15dbc123661a', 'a9a2c391-b9c0-2c62-b5f0-42411e07809c', 'abcc1e96-6637-b573-e425-a668f873dfa6', 'd8934572-b4ab-7b73-e2b0-fd72bf732b...   \n",
       "4    ['3e619c5b-8801-886f-1153-21429e404e1b', '77899e50-1aae-2b16-f8d4-65c30e9717d0', '911edbf3-396c-c1f4-e97f-18c212dee4c4', 'b78da971-cede-623b-d604-234e42dda7f8', 'bf715864-7c6d-03f2-2587-13ce20a99f...   \n",
       "..                                                                                                                                                                                                       ...   \n",
       "175  ['19857181-dd62-9d08-2747-3331540f0b81', 'adfada1a-9035-2536-c50b-c83d3f18a36a', 'b212ddfc-cb92-43ac-de99-bf0def886139', 'd486c571-c3f4-46d5-86b4-876a28a89790', 'fcfd1b5a-f708-0a3d-3ac6-172751a4c6...   \n",
       "176  ['25c2084b-d2c7-2c1d-2bdf-5ac4b97e8d7e', '3c673603-bc65-e197-6c90-bcb66c977b8c', '77899e50-1aae-2b16-f8d4-65c30e9717d0', 'b78da971-cede-623b-d604-234e42dda7f8', 'd8934572-b4ab-7b73-e2b0-fd72bf732b...   \n",
       "177  ['36a0b9b8-5aeb-f0d1-673e-044da5890e01', '3e619c5b-8801-886f-1153-21429e404e1b', '7b28a0c9-9260-0b69-8d07-4b383b4ec9ee', 'b78da971-cede-623b-d604-234e42dda7f8', 'bf715864-7c6d-03f2-2587-13ce20a99f...   \n",
       "178  ['0f064687-3f51-7c2c-9ad1-d77b09f66b36', '77899e50-1aae-2b16-f8d4-65c30e9717d0', 'b78da971-cede-623b-d604-234e42dda7f8', 'd8934572-b4ab-7b73-e2b0-fd72bf732bad', 'e5b52cd6-97dd-1b43-0a6c-d523f5f654...   \n",
       "179                                         ['77899e50-1aae-2b16-f8d4-65c30e9717d0', '911edbf3-396c-c1f4-e97f-18c212dee4c4', 'c64e4be0-0a6b-a621-a919-864efa4ae279', 'd8934572-b4ab-7b73-e2b0-fd72bf732bad']   \n",
       "\n",
       "     answer  answer_chunk_ids    type  \n",
       "0       NaN               NaN   ragas  \n",
       "1       NaN               NaN   ragas  \n",
       "2       NaN               NaN   ragas  \n",
       "3       NaN               NaN   ragas  \n",
       "4       NaN               NaN   ragas  \n",
       "..      ...               ...     ...  \n",
       "175     NaN               NaN  manual  \n",
       "176     NaN               NaN  manual  \n",
       "177     NaN               NaN  manual  \n",
       "178     NaN               NaN  manual  \n",
       "179     NaN               NaN  manual  \n",
       "\n",
       "[180 rows x 7 columns]"
      ]
     },
     "execution_count": 11,
     "metadata": {},
     "output_type": "execute_result"
    }
   ],
   "source": [
    "evaluation_dataset = pd.read_csv('final_evaluation_datasets/evaluation_dataset.csv')\n",
    "evaluation_dataset"
   ]
  },
  {
   "cell_type": "code",
   "execution_count": 24,
   "metadata": {},
   "outputs": [
    {
     "data": {
      "text/plain": [
       "\"Yes, this would benefit Samsung. This is because Samsung has a partnership to license AMD's GPUs to handle advanced graphics that could be used in gaming or for on-device AI in any apps. This would enrich the user experience for Microsoft apps on Samsung devices, and they would have better customer satisfaction.\""
      ]
     },
     "execution_count": 24,
     "metadata": {},
     "output_type": "execute_result"
    }
   ],
   "source": [
    "evaluation_dataset.loc[160, 'ground_truth']"
   ]
  },
  {
   "cell_type": "code",
   "execution_count": null,
   "metadata": {},
   "outputs": [],
   "source": []
  }
 ],
 "metadata": {
  "kernelspec": {
   "display_name": "Python 3",
   "language": "python",
   "name": "python3"
  },
  "language_info": {
   "codemirror_mode": {
    "name": "ipython",
    "version": 3
   },
   "file_extension": ".py",
   "mimetype": "text/x-python",
   "name": "python",
   "nbconvert_exporter": "python",
   "pygments_lexer": "ipython3",
   "version": "3.11.5"
  }
 },
 "nbformat": 4,
 "nbformat_minor": 2
}

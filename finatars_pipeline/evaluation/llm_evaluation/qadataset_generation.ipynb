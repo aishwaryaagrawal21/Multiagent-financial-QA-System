{
  "nbformat": 4,
  "nbformat_minor": 0,
  "metadata": {
    "colab": {
      "provenance": []
    },
    "kernelspec": {
      "name": "python3",
      "display_name": "Python 3"
    },
    "language_info": {
      "name": "python"
    }
  },
  "cells": [
    {
      "cell_type": "markdown",
      "source": [
        "### Install necessary libraries"
      ],
      "metadata": {
        "id": "4KbLzhIS0m97"
      }
    },
    {
      "cell_type": "code",
      "source": [
        "# !pip install -q pandas sumy openai"
      ],
      "metadata": {
        "id": "NrVGZ8eE0l_8"
      },
      "execution_count": null,
      "outputs": []
    },
    {
      "cell_type": "code",
      "source": [
        "import nltk\n",
        "nltk.download('punkt')\n",
        "import pandas as pd\n",
        "import spacy\n",
        "from sumy.parsers.plaintext import PlaintextParser\n",
        "from sumy.nlp.tokenizers import Tokenizer\n",
        "from sumy.summarizers.lsa import LsaSummarizer\n",
        "import itertools\n",
        "import random\n",
        "import openai\n",
        "openai.api_key = 'API_KEY'"
      ],
      "metadata": {
        "colab": {
          "base_uri": "https://localhost:8080/"
        },
        "id": "T_dSOeJI35r3",
        "outputId": "ba6e847b-6691-4d55-e1b1-94c5441e3e3f"
      },
      "execution_count": null,
      "outputs": [
        {
          "output_type": "stream",
          "name": "stderr",
          "text": [
            "[nltk_data] Downloading package punkt to /root/nltk_data...\n",
            "[nltk_data]   Package punkt is already up-to-date!\n"
          ]
        }
      ]
    },
    {
      "cell_type": "code",
      "source": [
        "df = pd.read_csv('/content/drive/MyDrive/sample_input_news.csv')"
      ],
      "metadata": {
        "id": "wx43jICR0te9"
      },
      "execution_count": null,
      "outputs": []
    },
    {
      "cell_type": "markdown",
      "source": [
        "### Summarization with Sumy"
      ],
      "metadata": {
        "id": "TsWZhMTP1L-1"
      }
    },
    {
      "cell_type": "code",
      "source": [
        "def summarize(text, language=\"english\", sentences_count=5):\n",
        "    parser = PlaintextParser.from_string(text, Tokenizer(language))\n",
        "    summarizer = LsaSummarizer()\n",
        "    summary = summarizer(parser.document, sentences_count)\n",
        "    return ' '.join([str(sentence) for sentence in summary])\n",
        "\n",
        "# Example: Summarize the first article\n",
        "first_article_summary = summarize(df['text'][0], sentences_count=10)"
      ],
      "metadata": {
        "id": "JEygxE9k1CNO"
      },
      "execution_count": null,
      "outputs": []
    },
    {
      "cell_type": "code",
      "source": [
        "first_article_summary"
      ],
      "metadata": {
        "colab": {
          "base_uri": "https://localhost:8080/",
          "height": 191
        },
        "id": "mSQTZLOT1RRe",
        "outputId": "d16bc4ed-c10b-4b37-be94-463f03ea14aa"
      },
      "execution_count": null,
      "outputs": [
        {
          "output_type": "execute_result",
          "data": {
            "text/plain": [
              "\"Companies like Nvidia, AMD and Microsoft (MSFT) tap the emerging market for generative AI. Generative AI can create content, including written articles, from simple phrases by analyzing vast amounts of data. Investors generally should focus on stocks with Comp Ratings of 90 or even 95 and above. Nvidia stock often earns a spot on the IBD 50, Big Cap 20 and Sector Leaders lists. On Nov. 21, Nvidia disclosed earnings rocketed 593% in the third quarter and revenue soared 206%, an overall beat. For the full year, analysts now expect Nvidia earnings to rebound 264% as sales jump 118%. The fabless chipmaker pioneered graphics processing units, or GPUs, to make video games more realistic. Nvidia's GPUs act as accelerators for central processing units, or CPUs, made by other companies. Earnings should more than triple this fiscal year, driven by booming chip sales for data centers and artificial intelligence. Bottom line: Nvidia stock is not a buy right now, but it could be soon.\""
            ],
            "application/vnd.google.colaboratory.intrinsic+json": {
              "type": "string"
            }
          },
          "metadata": {},
          "execution_count": 41
        }
      ]
    },
    {
      "cell_type": "markdown",
      "source": [
        "#### Apply summarization to data"
      ],
      "metadata": {
        "id": "-ZeUcVij96M-"
      }
    },
    {
      "cell_type": "code",
      "source": [
        "df['summary'] = df['text'].apply(lambda x: summarize(x, sentences_count=6))"
      ],
      "metadata": {
        "id": "0JVi4wAV4Ryu"
      },
      "execution_count": null,
      "outputs": []
    },
    {
      "cell_type": "markdown",
      "source": [
        "### Generate article combinations"
      ],
      "metadata": {
        "id": "2yLtdFq3993W"
      }
    },
    {
      "cell_type": "code",
      "source": [
        "summaries = [(article_id, summarized_text) for article_id, summarized_text in zip(df.index, df['text'])]\n",
        "\n",
        "# Parameters set by the user\n",
        "n = 2  # Number of articles to combine for each QA\n",
        "k = 10  # Number of QA pairs to generate\n",
        "\n",
        "# Generate random combinations of articles\n",
        "random_combinations = random.sample(list(itertools.combinations(summaries, n)), k)"
      ],
      "metadata": {
        "id": "_2OUeaM4-AzX"
      },
      "execution_count": null,
      "outputs": []
    },
    {
      "cell_type": "markdown",
      "source": [
        "### Generate prompt"
      ],
      "metadata": {
        "id": "qyINFYl--UT0"
      }
    },
    {
      "cell_type": "code",
      "source": [
        "def generate_prompt_for_gpt(combination):\n",
        "    articles_text = \"\\n\\n\".join([f\"Article {i+1} Summary: {text}\" for i, (_, text) in enumerate(combination)])\n",
        "    prompt = (\n",
        "        f\"Based on the combined information from the following summaries, generate a financial reasoning question. The question should be financial and related to the companies mentioned, and formatted to be concise, short and shouldn\\'t mention that its based on something or an article.\\n\" \\\n",
        "        'Do not pick a question that cannot be answered from the given summaries. It should be simple enough and should mimic the kind of financial reasoning questions that an analyst asks.' \\\n",
        "        f\"Each question generated must also have an associated answer, and provide a detailed answer that requires inference from multiple articles.\\n\" \\\n",
        "        \"The generated Q/A pair should be generated as a tuple containing the question and the answer.\" \\\n",
        "        \"Your reply should ONLY be the Q/A pair as a tuple, nothing else.\\n\" \\\n",
        "        f\"{articles_text}\\n\\n\"\n",
        "    )\n",
        "    return prompt"
      ],
      "metadata": {
        "id": "PzcgT54v-Ob5"
      },
      "execution_count": null,
      "outputs": []
    },
    {
      "cell_type": "markdown",
      "source": [
        "### Generate QA Pairs and Document References"
      ],
      "metadata": {
        "id": "6NTjcp-G-kE0"
      }
    },
    {
      "cell_type": "code",
      "source": [
        "def generate_qa_pair(prompt):\n",
        "    response = openai.chat.completions.create(\n",
        "        model = 'gpt-4',\n",
        "        messages=[\n",
        "            {\n",
        "                'role': 'user',\n",
        "                'content': prompt,\n",
        "            },\n",
        "        ],\n",
        "        temperature=0.5,\n",
        "        top_p=1.0,\n",
        "        frequency_penalty=0.0,\n",
        "        presence_penalty=0.0,\n",
        "        stop=[\"\\n\\n\"]\n",
        "    )\n",
        "    return response.choices[0].message.content.strip()"
      ],
      "metadata": {
        "id": "wzJ28i0g-hsw"
      },
      "execution_count": null,
      "outputs": []
    },
    {
      "cell_type": "markdown",
      "source": [
        "### Generate Q/A Dataset"
      ],
      "metadata": {
        "id": "nGIEq2I8AnlD"
      }
    },
    {
      "cell_type": "code",
      "source": [
        "qa_df = pd.DataFrame(columns = ['question','answer', 'references'])"
      ],
      "metadata": {
        "id": "lhnYihZFAyuD"
      },
      "execution_count": null,
      "outputs": []
    },
    {
      "cell_type": "code",
      "source": [
        "for combination in random_combinations:\n",
        "    prompt = generate_prompt_for_gpt(combination)\n",
        "    qa_pair = eval(generate_qa_pair(prompt))\n",
        "    source_articles = [article_id for article_id, _ in combination]\n",
        "    print(f'Question: {qa_pair[0]}\\n\\n')\n",
        "    print(f'Answer: {qa_pair[1]}\\n\\n')\n",
        "    print(f'References: {source_articles}')\n",
        "    break\n",
        "    # qa_df.loc[len(qa_df.index)] = {\n",
        "    #     'question': qa_pair[0],\n",
        "    #     'answer': qa_pair[1],\n",
        "    #     'references': source_articles\n",
        "    # }"
      ],
      "metadata": {
        "id": "8kRmnNFV-xoh"
      },
      "execution_count": null,
      "outputs": []
    },
    {
      "cell_type": "code",
      "source": [
        "qa_df.to_csv('/content/drive/MyDrive/qaDataset.csv', index = False)"
      ],
      "metadata": {
        "id": "XH8UcZwBAx2U"
      },
      "execution_count": null,
      "outputs": []
    },
    {
      "cell_type": "code",
      "source": [
        "qa_df['answer'][0]"
      ],
      "metadata": {
        "colab": {
          "base_uri": "https://localhost:8080/",
          "height": 139
        },
        "id": "poPI0K-JHeHe",
        "outputId": "c7dd4b44-a20e-4e59-f5df-fef467135edf"
      },
      "execution_count": null,
      "outputs": [
        {
          "output_type": "execute_result",
          "data": {
            "text/plain": [
              "\"AMD's growth expectations for its AI products are considered to be 'meaningfully better' according to analysts, despite a projected revenue shortfall for the current quarter. It is believed that the success of these AI processors is more significant than the performance of AMD's embedded business which focuses on industrial, automotive and networking sectors. Furthermore, AMD is investing heavily in AI to compete with its rival Nvidia. However, while sales of AMD's AI-powered GPUs are expected to reach $2 billion next year, this is considered small compared to Nvidia. Nvidia's market cap exceeds $1 trillion and its stocks have almost tripled year-to-date, making it the S&P 500's best-performing stock this year.\""
            ],
            "application/vnd.google.colaboratory.intrinsic+json": {
              "type": "string"
            }
          },
          "metadata": {},
          "execution_count": 115
        }
      ]
    }
  ]
}
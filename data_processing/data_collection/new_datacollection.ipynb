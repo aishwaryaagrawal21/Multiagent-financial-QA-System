{
 "cells": [
  {
   "cell_type": "markdown",
   "metadata": {},
   "source": [
    "### Import necessary libraries"
   ]
  },
  {
   "cell_type": "code",
   "execution_count": 71,
   "metadata": {},
   "outputs": [],
   "source": [
    "from sec_api import ExtractorApi\n",
    "from tqdm.auto import tqdm\n",
    "import json\n",
    "import pandas as pd"
   ]
  },
  {
   "cell_type": "markdown",
   "metadata": {},
   "source": [
    "### Extract relevant sections from SEC filings\n",
    "\n",
    "More information: https://www.investor.gov/introduction-investing/general-resources/news-alerts/alerts-bulletins/investor-bulletins/how-read\n",
    "\n",
    "The sections from 10-K documents that are most relevant:\n",
    "- 1: Business\n",
    "- 1A: Risk Factors\n",
    "- 2: Properties\n",
    "- 3: Legal Proceedings\n",
    "- 5: Market for Registrant’s Common Equity, Related Stockholder Matters and Issuer Purchases of Equity Securities\n",
    "- 6: Financial Historical Data\n",
    "- 7: Management’s Discussion and Analysis of Financial Condition and Results of Operations\n",
    "- 7A: Quantitative and Qualitative Disclosures about Market Ris\n",
    "- 8: Financial Statements and Supplementary Data\n",
    "- 10: Directors, Executive Officers and Corporate Governance\n",
    "- 11: Executive Compensation\n",
    "- 12: Security Ownership of Certain Beneficial Owners and Management and Related Stockholder Matters\n",
    "- 13: Certain Relationships and Related Transactions, and Director Independence"
   ]
  },
  {
   "cell_type": "code",
   "execution_count": 13,
   "metadata": {},
   "outputs": [],
   "source": [
    "def extractSECData(companies, sections_to_extract, secAPIKey = '12e1ddac712981bee08fa342a186914af421d68877b85c9387b26535b702705b'):\n",
    "    '''\n",
    "    Extracts specific sections from 10-K documents for specific companies for financial year 2023.\n",
    "    \n",
    "    Parameters:\n",
    "    - companies (dict): A dictionary of company tickers mapping to the SEC 10-K file URL.\n",
    "    - sections_to_extract (list): A list of all sections to extract from the 10-K.\n",
    "    - secAPIKey (str): The API Key for the \"sec_api\" library.\n",
    "\n",
    "    Returns:\n",
    "    - results (dict): A dictionary of all the 10-K sections for all the companies.\n",
    "    '''\n",
    "    \n",
    "    extractorApi = ExtractorApi(secAPIKey)\n",
    "    results = {}\n",
    "    for company_name, url_10k in companies.items():\n",
    "        print(f'Extracting 10-K information for {company_name}...')\n",
    "        results[company_name] = {}\n",
    "        for section in tqdm(sections_to_extract, desc=f'Extracting all sections from {company_name}\\'s 10-K'):\n",
    "            results[company_name][section] = extractorApi.get_section(url_10k, section=section, return_type='text')\n",
    "        print('---------')\n",
    "    return results"
   ]
  },
  {
   "cell_type": "code",
   "execution_count": 14,
   "metadata": {},
   "outputs": [
    {
     "name": "stdout",
     "output_type": "stream",
     "text": [
      "Extracting 10-K information for NVDA...\n"
     ]
    },
    {
     "name": "stderr",
     "output_type": "stream",
     "text": [
      "Extracting all sections from NVDA's 10-K: 100%|██████████| 13/13 [00:02<00:00,  5.88it/s]\n"
     ]
    },
    {
     "name": "stdout",
     "output_type": "stream",
     "text": [
      "---------\n",
      "Extracting 10-K information for AMD...\n"
     ]
    },
    {
     "name": "stderr",
     "output_type": "stream",
     "text": [
      "Extracting all sections from AMD's 10-K: 100%|██████████| 13/13 [00:03<00:00,  4.26it/s]\n"
     ]
    },
    {
     "name": "stdout",
     "output_type": "stream",
     "text": [
      "---------\n",
      "Extracting 10-K information for META...\n"
     ]
    },
    {
     "name": "stderr",
     "output_type": "stream",
     "text": [
      "Extracting all sections from META's 10-K: 100%|██████████| 13/13 [00:02<00:00,  6.02it/s]\n"
     ]
    },
    {
     "name": "stdout",
     "output_type": "stream",
     "text": [
      "---------\n",
      "Extracting 10-K information for MSFT...\n"
     ]
    },
    {
     "name": "stderr",
     "output_type": "stream",
     "text": [
      "Extracting all sections from MSFT's 10-K: 100%|██████████| 13/13 [00:02<00:00,  4.68it/s]"
     ]
    },
    {
     "name": "stdout",
     "output_type": "stream",
     "text": [
      "---------\n"
     ]
    },
    {
     "name": "stderr",
     "output_type": "stream",
     "text": [
      "\n"
     ]
    }
   ],
   "source": [
    "companies = {\n",
    "    'NVDA': 'https://www.sec.gov/ixviewer/ix.html?doc=/Archives/edgar/data/0001045810/000104581024000029/nvda-20240128.htm',\n",
    "    'AMD': 'https://www.sec.gov/ixviewer/ix.html?doc=/Archives/edgar/data/0000002488/000000248824000012/amd-20231230.htm',\n",
    "    'META': 'https://www.sec.gov/ixviewer/ix.html?doc=/Archives/edgar/data/0001326801/000132680124000012/meta-20231231.htm',\n",
    "    'MSFT': 'https://www.sec.gov/ixviewer/ix.html?doc=/Archives/edgar/data/0000789019/000095017023035122/msft-20230630.htm'\n",
    "}\n",
    "sections_to_extract = ['1','1A','2','3','5','6','7','7A','8','10','11','12','13']\n",
    "\n",
    "results = extractSECData(\n",
    "    companies=companies,\n",
    "    sections_to_extract=sections_to_extract\n",
    ")"
   ]
  },
  {
   "cell_type": "code",
   "execution_count": 22,
   "metadata": {},
   "outputs": [],
   "source": [
    "def save_sec_files(output_path, results):\n",
    "    with open(output_path, 'w') as f:\n",
    "        json.dump(results, f, indent=4)\n",
    "    print(f'Results saved to {output_path}')"
   ]
  },
  {
   "cell_type": "code",
   "execution_count": 23,
   "metadata": {},
   "outputs": [
    {
     "name": "stdout",
     "output_type": "stream",
     "text": [
      "Results saved to sec_results.json\n"
     ]
    }
   ],
   "source": [
    "save_sec_files('sec_results.json', results)"
   ]
  },
  {
   "cell_type": "markdown",
   "metadata": {},
   "source": []
  },
  {
   "cell_type": "markdown",
   "metadata": {},
   "source": [
    "### News Scraper"
   ]
  },
  {
   "cell_type": "code",
   "execution_count": 4,
   "metadata": {},
   "outputs": [
    {
     "name": "stdout",
     "output_type": "stream",
     "text": [
      "/Users/Dell/Documents/BNYM Capstone/datacollection/GNews\n"
     ]
    }
   ],
   "source": [
    "# !git clone https://github.com/ranahaani/GNews.git\n",
    "# !pip install -q -r GNews/requirements.txt\n",
    "%cd GNews/"
   ]
  },
  {
   "cell_type": "code",
   "execution_count": 29,
   "metadata": {},
   "outputs": [],
   "source": [
    "from gnews import GNews\n",
    "google_news = GNews(\n",
    "    language='en',\n",
    "    country='US',\n",
    "    max_results=50,\n",
    "    )\n",
    "google_news.start_date = (2023, 1, 1)\n",
    "google_news.end_date = (2023, 12, 31)"
   ]
  },
  {
   "cell_type": "code",
   "execution_count": 30,
   "metadata": {},
   "outputs": [],
   "source": [
    "def extractNewsData(companies, directoryPath):\n",
    "    '''\n",
    "    Extract Google News articles about companies during specified date ranges.\n",
    "\n",
    "    Parameters:\n",
    "    - companies (list): A list of company tickers for which information is needed to be extracted.\n",
    "    - directoryPath (str): The path to the directory in which news data will be stored.\n",
    "    '''\n",
    "    for company in companies:\n",
    "        data = {\n",
    "            'title': [],\n",
    "            'text': [],\n",
    "            'publisher': [],\n",
    "            'authors': [],\n",
    "            'published_date': []\n",
    "        }\n",
    "        jsonResponse = google_news.get_news(company)\n",
    "        for items in jsonResponse:\n",
    "            try:\n",
    "                article = google_news.get_full_article(items['url'])\n",
    "                data['title'].append(article.title)\n",
    "                data['text'].append(article.text)\n",
    "                data['publisher'].append(items['publisher'])\n",
    "                data['authors'].append(article.authors)\n",
    "                data['published_date'].append(article.publish_date)\n",
    "            except:\n",
    "                continue\n",
    "        save_path = f'{directoryPath}/{company}_news_data.csv'\n",
    "        df = pd.DataFrame(data)\n",
    "        df.to_csv(save_path, index=False)"
   ]
  },
  {
   "cell_type": "code",
   "execution_count": 67,
   "metadata": {},
   "outputs": [],
   "source": [
    "companies = ['NVDA', 'AMD','TSM','META','MSFT']\n",
    "extractNewsData(companies=companies, directoryPath='../GoogleNewsData')"
   ]
  },
  {
   "cell_type": "code",
   "execution_count": 64,
   "metadata": {},
   "outputs": [],
   "source": [
    "def process_dataframe(df):\n",
    "    # Remove rows where 'text' is null\n",
    "    df = df.dropna(subset=['text']).reset_index(drop=True)\n",
    "    \n",
    "    # Convert 'authors' column to string of the first author or empty string\n",
    "    df['authors'] = df['authors'].apply(lambda x: eval(x)[0] if len(eval(x)) > 0 else '')\n",
    "    \n",
    "    # Format 'published_date' as YYYY-MM-DD or empty string\n",
    "    df['published_date'] = df['published_date'].apply(lambda x: x.split(' ')[0] if isinstance(x, str) and x else '')\n",
    "    \n",
    "    # Extract 'title' from 'publisher' dictionary\n",
    "    df['publisher'] = df['publisher'].apply(lambda x: eval(x)['title'] if 'title' in eval(x) else '')\n",
    "    \n",
    "    return df"
   ]
  },
  {
   "cell_type": "code",
   "execution_count": 68,
   "metadata": {},
   "outputs": [],
   "source": [
    "for company in companies:\n",
    "    path = f'../GoogleNewsData/{company}_news_data.csv'\n",
    "    df = pd.read_csv(path)\n",
    "    pp_df = process_dataframe(df)\n",
    "    pp_df.to_csv(path, index=False)"
   ]
  }
 ],
 "metadata": {
  "kernelspec": {
   "display_name": "Python 3",
   "language": "python",
   "name": "python3"
  },
  "language_info": {
   "codemirror_mode": {
    "name": "ipython",
    "version": 3
   },
   "file_extension": ".py",
   "mimetype": "text/x-python",
   "name": "python",
   "nbconvert_exporter": "python",
   "pygments_lexer": "ipython3",
   "version": "3.11.5"
  }
 },
 "nbformat": 4,
 "nbformat_minor": 2
}

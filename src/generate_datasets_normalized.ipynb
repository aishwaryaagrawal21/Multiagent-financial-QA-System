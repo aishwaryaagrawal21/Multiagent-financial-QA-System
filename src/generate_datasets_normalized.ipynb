{
 "cells": [
  {
   "cell_type": "code",
   "execution_count": null,
   "id": "4fdc08ab31884af",
   "metadata": {
    "collapsed": false
   },
   "outputs": [],
   "source": [
    "import pandas as pd"
   ]
  },
  {
   "cell_type": "code",
   "execution_count": null,
   "id": "5fce95639c3d628e",
   "metadata": {
    "collapsed": false
   },
   "outputs": [],
   "source": [
    "import os"
   ]
  },
  {
   "cell_type": "code",
   "execution_count": null,
   "id": "6624ebdaa7478bad",
   "metadata": {
    "collapsed": false
   },
   "outputs": [],
   "source": [
    "os.environ[\"OPENAI_API_KEY\"] = \"your-key\"\n",
    "os.environ[\"AUTOGEN_USE_DOCKER\"] = \"False\""
   ]
  },
  {
   "cell_type": "code",
   "execution_count": null,
   "id": "ef0cb1c7f6725b9a",
   "metadata": {
    "collapsed": false
   },
   "outputs": [],
   "source": [
    "from run import start_finatars\n"
   ]
  },
  {
   "cell_type": "code",
   "execution_count": null,
   "id": "4a0654908c2d3cf4",
   "metadata": {
    "collapsed": false
   },
   "outputs": [],
   "source": [
    "df = pd.read_csv(\"./evaluation/ragas_evaluation/final_evaluation_datasets/evaluation_dataset.csv\")"
   ]
  },
  {
   "cell_type": "code",
   "execution_count": null,
   "id": "c3e9f322e963145e",
   "metadata": {
    "collapsed": false
   },
   "outputs": [],
   "source": [
    "df"
   ]
  },
  {
   "cell_type": "code",
   "execution_count": null,
   "id": "f7aa1b7c8c5f8047",
   "metadata": {
    "collapsed": false
   },
   "outputs": [],
   "source": [
    "questions_list = df['question']"
   ]
  },
  {
   "cell_type": "code",
   "execution_count": null,
   "id": "7d284f26a3ae0bd0",
   "metadata": {
    "collapsed": false
   },
   "outputs": [],
   "source": [
    "list(questions_list)"
   ]
  },
  {
   "cell_type": "code",
   "execution_count": null,
   "id": "f2917a970a74363b",
   "metadata": {
    "collapsed": false
   },
   "outputs": [],
   "source": [
    "!docker run -p 6333:6333 -p 6334:6334 \\\n",
    "    -v $(pwd)/qdrant_storage:/qdrant/storage:z \\\n",
    "    qdrant/qdrant"
   ]
  },
  {
   "cell_type": "code",
   "execution_count": null,
   "id": "e4d12b120757629",
   "metadata": {
    "collapsed": false
   },
   "outputs": [],
   "source": [
    "# from run import build_graph\n",
    "# triplet_path = '../data_processing/triplet_extraction/FinalData'\n",
    "# build_graph(rebuild_kg = True, triplet_data_path = triplet_path)"
   ]
  },
  {
   "cell_type": "code",
   "execution_count": null,
   "id": "91369938e043a3e",
   "metadata": {
    "collapsed": false
   },
   "outputs": [],
   "source": [
    "agent_type = 'multi' # 'single' or 'multi'\n",
    "search_type = 'beam_search_advanced' # if using 'single', select 'beam_search', 'beam_search_advanced' or 'vector_search'\n",
    "web_search = True # True if you want internet search, False otherwise.\n",
    "# Start QA system\n",
    "questions_list = list(df['question'])\n",
    "for q in questions_list[3:4]:\n",
    "    answer, chunk_text, chunk_source, chunk_id, web_data = start_finatars(question=q, agent_type=agent_type, search_type=search_type, web_search = web_search, llm_config_path=\"./llm_config.json\")\n",
    "    print(f'Answer:\\n\\n{answer[0]}')\n",
    "    print(f'Information extracted from the web:\\n\\n{web_data}')"
   ]
  },
  {
   "cell_type": "code",
   "execution_count": null,
   "id": "91282f04d6b8264e",
   "metadata": {
    "collapsed": false
   },
   "outputs": [],
   "source": [
    "\n",
    "answer[0]"
   ]
  },
  {
   "cell_type": "code",
   "execution_count": null,
   "id": "830a2b682f10fbca",
   "metadata": {
    "collapsed": false
   },
   "outputs": [],
   "source": [
    "answer[1]"
   ]
  },
  {
   "cell_type": "code",
   "execution_count": null,
   "id": "d8104105366ae728",
   "metadata": {
    "collapsed": false
   },
   "outputs": [],
   "source": [
    "df.loc[1, 'answer'] = answer[2][1]"
   ]
  },
  {
   "cell_type": "code",
   "execution_count": null,
   "id": "e993e1b53116547",
   "metadata": {
    "collapsed": false
   },
   "outputs": [],
   "source": [
    "chunk_id"
   ]
  },
  {
   "cell_type": "code",
   "execution_count": null,
   "id": "e5864b31681ecfc4",
   "metadata": {
    "collapsed": false
   },
   "outputs": [],
   "source": [
    "df.dtypes"
   ]
  },
  {
   "cell_type": "code",
   "execution_count": null,
   "id": "b565521a94025db8",
   "metadata": {
    "collapsed": false
   },
   "outputs": [],
   "source": [
    "df = df.astype({'answer_chunk_ids': 'object'})"
   ]
  },
  {
   "cell_type": "code",
   "execution_count": null,
   "id": "3a3d5a9c9b62535c",
   "metadata": {
    "collapsed": false
   },
   "outputs": [],
   "source": [
    "\n",
    "df.at['1', 'answer_chunk_ids'] = chunk_id"
   ]
  },
  {
   "cell_type": "code",
   "execution_count": null,
   "id": "f2d027148b9d017",
   "metadata": {
    "collapsed": false
   },
   "outputs": [],
   "source": [
    "df.dtypes"
   ]
  },
  {
   "cell_type": "code",
   "execution_count": null,
   "id": "5a55f714733c2d94",
   "metadata": {
    "collapsed": false
   },
   "outputs": [],
   "source": [
    "df = df.astype({'answer_chunk_ids': 'object'}).dtypes"
   ]
  },
  {
   "cell_type": "code",
   "execution_count": null,
   "id": "5edd8498147a98f7",
   "metadata": {
    "collapsed": false
   },
   "outputs": [],
   "source": [
    "df\n"
   ]
  },
  {
   "cell_type": "code",
   "execution_count": null,
   "id": "13b516d978929c24",
   "metadata": {
    "collapsed": false
   },
   "outputs": [],
   "source": [
    "chunk_id"
   ]
  },
  {
   "cell_type": "code",
   "execution_count": null,
   "id": "cc1db4630952b349",
   "metadata": {
    "collapsed": false
   },
   "outputs": [],
   "source": []
  },
  {
   "cell_type": "code",
   "execution_count": 76,
   "id": "7a0f24ed834a162",
   "metadata": {
    "ExecuteTime": {
     "end_time": "2024-04-25T17:22:30.939980Z",
     "start_time": "2024-04-25T17:22:30.826490Z"
    },
    "collapsed": false
   },
   "outputs": [],
   "source": [
    "df_new = pd.read_csv(\"/Users/aish21/Desktop/capstone/finatars/finatars_pipeline/evaluation/ragas_evaluation/final_evaluation_datasets/eval_results_new_pipeline/evaluation_dataset_new_with_web_agent_new_entity_extracted.csv\")"
   ]
  },
  {
   "cell_type": "code",
   "execution_count": 77,
   "id": "d7fa8973f5c9d0cf",
   "metadata": {
    "ExecuteTime": {
     "end_time": "2024-04-25T17:22:34.896416Z",
     "start_time": "2024-04-25T17:22:34.890710Z"
    },
    "collapsed": false
   },
   "outputs": [],
   "source": [
    "answers = df_new['answer']"
   ]
  },
  {
   "cell_type": "code",
   "execution_count": 78,
   "id": "e996a8596a190fb8",
   "metadata": {
    "ExecuteTime": {
     "end_time": "2024-04-25T17:22:35.922230Z",
     "start_time": "2024-04-25T17:22:35.906259Z"
    },
    "collapsed": false
   },
   "outputs": [
    {
     "data": {
      "text/plain": [
       "0      Based on the data provided, NVIDIA has signifi...\n",
       "1      The documents provided do not contain specific...\n",
       "2                                                    NaN\n",
       "3      Nvidia has established itself as a leader in t...\n",
       "4      NVIDIA employs various strategies to support t...\n",
       "                             ...                        \n",
       "175    The CEO of the company responsible for the exp...\n",
       "176    Based on the latest strategic and financial de...\n",
       "177    The data provided does not directly compare th...\n",
       "178    Based on the information provided, the company...\n",
       "179    The Executive Vice President and Chief Financi...\n",
       "Name: answer, Length: 180, dtype: object"
      ]
     },
     "execution_count": 78,
     "metadata": {},
     "output_type": "execute_result"
    }
   ],
   "source": [
    "answers"
   ]
  },
  {
   "cell_type": "code",
   "execution_count": 75,
   "id": "92b7aaf616860c40",
   "metadata": {
    "ExecuteTime": {
     "end_time": "2024-04-25T07:55:35.220059Z",
     "start_time": "2024-04-25T07:55:35.214250Z"
    },
    "collapsed": false
   },
   "outputs": [
    {
     "name": "stdout",
     "output_type": "stream",
     "text": [
      "90\n"
     ]
    }
   ],
   "source": [
    "print(df_new['answer'].count())\n"
   ]
  },
  {
   "cell_type": "code",
   "execution_count": null,
   "id": "18e910c5f08f7cd3",
   "metadata": {
    "collapsed": false
   },
   "outputs": [],
   "source": [
    "web_data"
   ]
  },
  {
   "cell_type": "code",
   "execution_count": 79,
   "id": "aaa6bb52ee04b8eb",
   "metadata": {
    "ExecuteTime": {
     "end_time": "2024-04-25T17:23:31.842882Z",
     "start_time": "2024-04-25T17:23:31.800126Z"
    },
    "collapsed": false
   },
   "outputs": [
    {
     "name": "stdout",
     "output_type": "stream",
     "text": [
      "18\n"
     ]
    }
   ],
   "source": [
    "print(df_new['answer'].isnull().sum())\n"
   ]
  },
  {
   "cell_type": "code",
   "execution_count": null,
   "id": "a9bd0f80946b5137",
   "metadata": {
    "collapsed": false
   },
   "outputs": [],
   "source": []
  }
 ],
 "metadata": {
  "kernelspec": {
   "display_name": "Python 3",
   "language": "python",
   "name": "python3"
  },
  "language_info": {
   "codemirror_mode": {
    "name": "ipython",
    "version": 2
   },
   "file_extension": ".py",
   "mimetype": "text/x-python",
   "name": "python",
   "nbconvert_exporter": "python",
   "pygments_lexer": "ipython2",
   "version": "2.7.6"
  }
 },
 "nbformat": 4,
 "nbformat_minor": 5
}
